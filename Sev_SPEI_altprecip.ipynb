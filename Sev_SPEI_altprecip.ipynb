{
 "cells": [
  {
   "cell_type": "code",
   "execution_count": 1,
   "metadata": {},
   "outputs": [
    {
     "name": "stderr",
     "output_type": "stream",
     "text": [
      "Loading required package: lmomco\n",
      "Loading required package: parallel\n",
      "# Package SPEI (1.6) loaded [try SPEINews()].\n",
      "Loading required package: zoo\n",
      "\n",
      "Attaching package: ‘zoo’\n",
      "\n",
      "The following objects are masked from ‘package:base’:\n",
      "\n",
      "    as.Date, as.Date.numeric\n",
      "\n"
     ]
    }
   ],
   "source": [
    "library('SPEI')\n",
    "library('xts')"
   ]
  },
  {
   "cell_type": "markdown",
   "metadata": {},
   "source": [
    "## Read in altered precip data"
   ]
  },
  {
   "cell_type": "code",
   "execution_count": 2,
   "metadata": {},
   "outputs": [
    {
     "data": {
      "text/html": [
       "<table>\n",
       "<thead><tr><th></th><th scope=col>site</th><th scope=col>water.year</th><th scope=col>water.month</th><th scope=col>serial</th><th scope=col>days</th><th scope=col>ambient</th><th scope=col>reduced</th><th scope=col>incvar_a</th><th scope=col>incvar_b</th><th scope=col>redmean_a</th><th scope=col>redmean_b</th><th scope=col>incvar_pair_1</th><th scope=col>incvar_pair_2</th><th scope=col>incvar_pair_3</th><th scope=col>incvar_pair_4</th><th scope=col>incvar_pair_5</th><th scope=col>redmean_pair_1</th><th scope=col>redmean_pair_2</th><th scope=col>redmean_pair_3</th><th scope=col>redmean_pair_4</th><th scope=col>redmean_pair_5</th><th scope=col>incvar_a_1</th><th scope=col>incvar_a_2</th><th scope=col>incvar_a_3</th><th scope=col>incvar_a_4</th><th scope=col>incvar_a_5</th><th scope=col>incvar_b_1</th><th scope=col>incvar_b_2</th><th scope=col>incvar_b_3</th><th scope=col>incvar_b_4</th><th scope=col>incvar_b_5</th><th scope=col>redmean_a_1</th><th scope=col>redmean_a_2</th><th scope=col>redmean_a_3</th><th scope=col>redmean_a_4</th><th scope=col>redmean_a_5</th><th scope=col>redmean_b_1</th><th scope=col>redmean_b_2</th><th scope=col>redmean_b_3</th><th scope=col>redmean_b_4</th><th scope=col>redmean_b_5</th><th scope=col>actual.month</th><th scope=col>actual.year</th><th scope=col>Date</th></tr></thead>\n",
       "<tbody>\n",
       "\t<tr><th scope=row>1</th><td>40</td><td>2003</td><td>1</td><td>37545</td><td>31</td><td>1.7</td><td>1.275</td><td>0.85</td><td>2.55</td><td>0.425</td><td>2.125</td><td>8</td><td>9</td><td>8</td><td>8</td><td>8</td><td>11</td><td>10</td><td>11</td><td>10</td><td>11</td><td>0.85</td><td>2.55</td><td>0.85</td><td>0.85</td><td>0.85</td><td>2.55</td><td>0.85</td><td>2.55</td><td>2.55</td><td>2.55</td><td>2.125</td><td>0.425</td><td>2.125</td><td>0.425</td><td>2.125</td><td>0.425</td><td>2.125</td><td>0.425</td><td>2.125</td><td>0.425</td><td>10</td><td>2002</td><td>2002-10-31</td></tr>\n",
       "\t<tr><th scope=row>2</th><td>40</td><td>2003</td><td>2</td><td>37576</td><td>30</td><td>15.9</td><td>11.925</td><td>7.95</td><td>23.85</td><td>3.975</td><td>19.875</td><td>8</td><td>9</td><td>8</td><td>8</td><td>8</td><td>11</td><td>10</td><td>11</td><td>10</td><td>11</td><td>7.95</td><td>23.85</td><td>7.95</td><td>7.95</td><td>7.95</td><td>23.85</td><td>7.95</td><td>23.85</td><td>23.85</td><td>23.85</td><td>19.875</td><td>3.975</td><td>19.875</td><td>3.975</td><td>19.875</td><td>3.975</td><td>19.875</td><td>3.975</td><td>19.875</td><td>3.975</td><td>11</td><td>2002</td><td>2002-11-30</td></tr>\n",
       "\t<tr><th scope=row>3</th><td>40</td><td>2003</td><td>3</td><td>37606</td><td>31</td><td>13.6</td><td>10.2</td><td>6.8</td><td>20.4</td><td>3.4</td><td>17</td><td>8</td><td>9</td><td>8</td><td>8</td><td>8</td><td>11</td><td>10</td><td>11</td><td>10</td><td>11</td><td>6.8</td><td>20.4</td><td>6.8</td><td>6.8</td><td>6.8</td><td>20.4</td><td>6.8</td><td>20.4</td><td>20.4</td><td>20.4</td><td>17</td><td>3.4</td><td>17</td><td>3.4</td><td>17</td><td>3.4</td><td>17</td><td>3.4</td><td>17</td><td>3.4</td><td>12</td><td>2002</td><td>2002-12-31</td></tr>\n",
       "\t<tr><th scope=row>4</th><td>40</td><td>2003</td><td>4</td><td>37637</td><td>31</td><td>0</td><td>0</td><td>0</td><td>0</td><td>0</td><td>0</td><td>8</td><td>9</td><td>8</td><td>8</td><td>8</td><td>11</td><td>10</td><td>11</td><td>10</td><td>11</td><td>0</td><td>0</td><td>0</td><td>0</td><td>0</td><td>0</td><td>0</td><td>0</td><td>0</td><td>0</td><td>0</td><td>0</td><td>0</td><td>0</td><td>0</td><td>0</td><td>0</td><td>0</td><td>0</td><td>0</td><td>1</td><td>2003</td><td>2003-01-31</td></tr>\n",
       "\t<tr><th scope=row>5</th><td>40</td><td>2003</td><td>5</td><td>37667</td><td>28</td><td>11.5</td><td>8.625</td><td>5.75</td><td>17.25</td><td>2.875</td><td>14.375</td><td>8</td><td>9</td><td>8</td><td>8</td><td>8</td><td>11</td><td>10</td><td>11</td><td>10</td><td>11</td><td>5.75</td><td>17.25</td><td>5.75</td><td>5.75</td><td>5.75</td><td>17.25</td><td>5.75</td><td>17.25</td><td>17.25</td><td>17.25</td><td>14.375</td><td>2.875</td><td>14.375</td><td>2.875</td><td>14.375</td><td>2.875</td><td>14.375</td><td>2.875</td><td>14.375</td><td>2.875</td><td>2</td><td>2003</td><td>2003-02-28</td></tr>\n",
       "\t<tr><th scope=row>6</th><td>40</td><td>2003</td><td>6</td><td>37696</td><td>31</td><td>14.3</td><td>10.725</td><td>7.15</td><td>21.45</td><td>3.575</td><td>17.875</td><td>8</td><td>9</td><td>8</td><td>8</td><td>8</td><td>11</td><td>10</td><td>11</td><td>10</td><td>11</td><td>7.15</td><td>21.45</td><td>7.15</td><td>7.15</td><td>7.15</td><td>21.45</td><td>7.15</td><td>21.45</td><td>21.45</td><td>21.45</td><td>17.875</td><td>3.575</td><td>17.875</td><td>3.575</td><td>17.875</td><td>3.575</td><td>17.875</td><td>3.575</td><td>17.875</td><td>3.575</td><td>3</td><td>2003</td><td>2003-03-31</td></tr>\n",
       "</tbody>\n",
       "</table>\n"
      ],
      "text/latex": [
       "\\begin{tabular}{r|llllllllllllllllllllllllllllllllllllllllllll}\n",
       "  & site & water.year & water.month & serial & days & ambient & reduced & incvar_a & incvar_b & redmean_a & redmean_b & incvar_pair_1 & incvar_pair_2 & incvar_pair_3 & incvar_pair_4 & incvar_pair_5 & redmean_pair_1 & redmean_pair_2 & redmean_pair_3 & redmean_pair_4 & redmean_pair_5 & incvar_a_1 & incvar_a_2 & incvar_a_3 & incvar_a_4 & incvar_a_5 & incvar_b_1 & incvar_b_2 & incvar_b_3 & incvar_b_4 & incvar_b_5 & redmean_a_1 & redmean_a_2 & redmean_a_3 & redmean_a_4 & redmean_a_5 & redmean_b_1 & redmean_b_2 & redmean_b_3 & redmean_b_4 & redmean_b_5 & actual.month & actual.year & Date\\\\\n",
       "\\hline\n",
       "\t1 & 40 & 2003 & 1 & 37545 & 31 & 1.7 & 1.275 & 0.85 & 2.55 & 0.425 & 2.125 & 8 & 9 & 8 & 8 & 8 & 11 & 10 & 11 & 10 & 11 & 0.85 & 2.55 & 0.85 & 0.85 & 0.85 & 2.55 & 0.85 & 2.55 & 2.55 & 2.55 & 2.125 & 0.425 & 2.125 & 0.425 & 2.125 & 0.425 & 2.125 & 0.425 & 2.125 & 0.425 & 10 & 2002 & 2002-10-31\\\\\n",
       "\t2 & 40 & 2003 & 2 & 37576 & 30 & 15.9 & 11.925 & 7.95 & 23.85 & 3.975 & 19.875 & 8 & 9 & 8 & 8 & 8 & 11 & 10 & 11 & 10 & 11 & 7.95 & 23.85 & 7.95 & 7.95 & 7.95 & 23.85 & 7.95 & 23.85 & 23.85 & 23.85 & 19.875 & 3.975 & 19.875 & 3.975 & 19.875 & 3.975 & 19.875 & 3.975 & 19.875 & 3.975 & 11 & 2002 & 2002-11-30\\\\\n",
       "\t3 & 40 & 2003 & 3 & 37606 & 31 & 13.6 & 10.2 & 6.8 & 20.4 & 3.4 & 17 & 8 & 9 & 8 & 8 & 8 & 11 & 10 & 11 & 10 & 11 & 6.8 & 20.4 & 6.8 & 6.8 & 6.8 & 20.4 & 6.8 & 20.4 & 20.4 & 20.4 & 17 & 3.4 & 17 & 3.4 & 17 & 3.4 & 17 & 3.4 & 17 & 3.4 & 12 & 2002 & 2002-12-31\\\\\n",
       "\t4 & 40 & 2003 & 4 & 37637 & 31 & 0 & 0 & 0 & 0 & 0 & 0 & 8 & 9 & 8 & 8 & 8 & 11 & 10 & 11 & 10 & 11 & 0 & 0 & 0 & 0 & 0 & 0 & 0 & 0 & 0 & 0 & 0 & 0 & 0 & 0 & 0 & 0 & 0 & 0 & 0 & 0 & 1 & 2003 & 2003-01-31\\\\\n",
       "\t5 & 40 & 2003 & 5 & 37667 & 28 & 11.5 & 8.625 & 5.75 & 17.25 & 2.875 & 14.375 & 8 & 9 & 8 & 8 & 8 & 11 & 10 & 11 & 10 & 11 & 5.75 & 17.25 & 5.75 & 5.75 & 5.75 & 17.25 & 5.75 & 17.25 & 17.25 & 17.25 & 14.375 & 2.875 & 14.375 & 2.875 & 14.375 & 2.875 & 14.375 & 2.875 & 14.375 & 2.875 & 2 & 2003 & 2003-02-28\\\\\n",
       "\t6 & 40 & 2003 & 6 & 37696 & 31 & 14.3 & 10.725 & 7.15 & 21.45 & 3.575 & 17.875 & 8 & 9 & 8 & 8 & 8 & 11 & 10 & 11 & 10 & 11 & 7.15 & 21.45 & 7.15 & 7.15 & 7.15 & 21.45 & 7.15 & 21.45 & 21.45 & 21.45 & 17.875 & 3.575 & 17.875 & 3.575 & 17.875 & 3.575 & 17.875 & 3.575 & 17.875 & 3.575 & 3 & 2003 & 2003-03-31\\\\\n",
       "\\end{tabular}\n"
      ],
      "text/plain": [
       "  site water.year water.month serial days ambient reduced incvar_a incvar_b\n",
       "1   40       2003           1  37545   31     1.7   1.275     0.85     2.55\n",
       "2   40       2003           2  37576   30    15.9  11.925     7.95    23.85\n",
       "3   40       2003           3  37606   31    13.6  10.200     6.80    20.40\n",
       "4   40       2003           4  37637   31     0.0   0.000     0.00     0.00\n",
       "5   40       2003           5  37667   28    11.5   8.625     5.75    17.25\n",
       "6   40       2003           6  37696   31    14.3  10.725     7.15    21.45\n",
       "  redmean_a redmean_b incvar_pair_1 incvar_pair_2 incvar_pair_3 incvar_pair_4\n",
       "1     0.425     2.125             8             9             8             8\n",
       "2     3.975    19.875             8             9             8             8\n",
       "3     3.400    17.000             8             9             8             8\n",
       "4     0.000     0.000             8             9             8             8\n",
       "5     2.875    14.375             8             9             8             8\n",
       "6     3.575    17.875             8             9             8             8\n",
       "  incvar_pair_5 redmean_pair_1 redmean_pair_2 redmean_pair_3 redmean_pair_4\n",
       "1             8             11             10             11             10\n",
       "2             8             11             10             11             10\n",
       "3             8             11             10             11             10\n",
       "4             8             11             10             11             10\n",
       "5             8             11             10             11             10\n",
       "6             8             11             10             11             10\n",
       "  redmean_pair_5 incvar_a_1 incvar_a_2 incvar_a_3 incvar_a_4 incvar_a_5\n",
       "1             11       0.85       2.55       0.85       0.85       0.85\n",
       "2             11       7.95      23.85       7.95       7.95       7.95\n",
       "3             11       6.80      20.40       6.80       6.80       6.80\n",
       "4             11       0.00       0.00       0.00       0.00       0.00\n",
       "5             11       5.75      17.25       5.75       5.75       5.75\n",
       "6             11       7.15      21.45       7.15       7.15       7.15\n",
       "  incvar_b_1 incvar_b_2 incvar_b_3 incvar_b_4 incvar_b_5 redmean_a_1\n",
       "1       2.55       0.85       2.55       2.55       2.55       2.125\n",
       "2      23.85       7.95      23.85      23.85      23.85      19.875\n",
       "3      20.40       6.80      20.40      20.40      20.40      17.000\n",
       "4       0.00       0.00       0.00       0.00       0.00       0.000\n",
       "5      17.25       5.75      17.25      17.25      17.25      14.375\n",
       "6      21.45       7.15      21.45      21.45      21.45      17.875\n",
       "  redmean_a_2 redmean_a_3 redmean_a_4 redmean_a_5 redmean_b_1 redmean_b_2\n",
       "1       0.425       2.125       0.425       2.125       0.425       2.125\n",
       "2       3.975      19.875       3.975      19.875       3.975      19.875\n",
       "3       3.400      17.000       3.400      17.000       3.400      17.000\n",
       "4       0.000       0.000       0.000       0.000       0.000       0.000\n",
       "5       2.875      14.375       2.875      14.375       2.875      14.375\n",
       "6       3.575      17.875       3.575      17.875       3.575      17.875\n",
       "  redmean_b_3 redmean_b_4 redmean_b_5 actual.month actual.year       Date\n",
       "1       0.425       2.125       0.425           10        2002 2002-10-31\n",
       "2       3.975      19.875       3.975           11        2002 2002-11-30\n",
       "3       3.400      17.000       3.400           12        2002 2002-12-31\n",
       "4       0.000       0.000       0.000            1        2003 2003-01-31\n",
       "5       2.875      14.375       2.875            2        2003 2003-02-28\n",
       "6       3.575      17.875       3.575            3        2003 2003-03-31"
      ]
     },
     "execution_count": 2,
     "metadata": {},
     "output_type": "execute_result"
    },
    {
     "data": {
      "text/html": [
       "<table>\n",
       "<thead><tr><th></th><th scope=col>site</th><th scope=col>water.year</th><th scope=col>water.month</th><th scope=col>serial</th><th scope=col>days</th><th scope=col>ambient</th><th scope=col>reduced</th><th scope=col>incvar_a</th><th scope=col>incvar_b</th><th scope=col>redmean_a</th><th scope=col>redmean_b</th><th scope=col>incvar_pair_1</th><th scope=col>incvar_pair_2</th><th scope=col>incvar_pair_3</th><th scope=col>incvar_pair_4</th><th scope=col>incvar_pair_5</th><th scope=col>redmean_pair_1</th><th scope=col>redmean_pair_2</th><th scope=col>redmean_pair_3</th><th scope=col>redmean_pair_4</th><th scope=col>redmean_pair_5</th><th scope=col>incvar_a_1</th><th scope=col>incvar_a_2</th><th scope=col>incvar_a_3</th><th scope=col>incvar_a_4</th><th scope=col>incvar_a_5</th><th scope=col>incvar_b_1</th><th scope=col>incvar_b_2</th><th scope=col>incvar_b_3</th><th scope=col>incvar_b_4</th><th scope=col>incvar_b_5</th><th scope=col>redmean_a_1</th><th scope=col>redmean_a_2</th><th scope=col>redmean_a_3</th><th scope=col>redmean_a_4</th><th scope=col>redmean_a_5</th><th scope=col>redmean_b_1</th><th scope=col>redmean_b_2</th><th scope=col>redmean_b_3</th><th scope=col>redmean_b_4</th><th scope=col>redmean_b_5</th><th scope=col>actual.month</th><th scope=col>actual.year</th><th scope=col>Date</th></tr></thead>\n",
       "<tbody>\n",
       "\t<tr><th scope=row>775</th><td>50</td><td>2015</td><td>7</td><td>42110</td><td>30</td><td>15.6</td><td>11.7</td><td>7.8</td><td>23.4</td><td>3.9</td><td>19.5</td><td>8</td><td>9</td><td>8</td><td>9</td><td>9</td><td>11</td><td>11</td><td>10</td><td>10</td><td>11</td><td>7.8</td><td>23.4</td><td>7.8</td><td>23.4</td><td>23.4</td><td>23.4</td><td>7.8</td><td>23.4</td><td>7.8</td><td>7.8</td><td>19.5</td><td>19.5</td><td>3.9</td><td>3.9</td><td>19.5</td><td>3.9</td><td>3.9</td><td>19.5</td><td>19.5</td><td>3.9</td><td>4</td><td>2015</td><td>2015-04-30</td></tr>\n",
       "\t<tr><th scope=row>776</th><td>50</td><td>2015</td><td>8</td><td>42140</td><td>31</td><td>27.9</td><td>20.925</td><td>13.95</td><td>41.85</td><td>6.975</td><td>34.875</td><td>8</td><td>9</td><td>8</td><td>9</td><td>9</td><td>11</td><td>11</td><td>10</td><td>10</td><td>11</td><td>13.95</td><td>41.85</td><td>13.95</td><td>41.85</td><td>41.85</td><td>41.85</td><td>13.95</td><td>41.85</td><td>13.95</td><td>13.95</td><td>34.875</td><td>34.875</td><td>6.975</td><td>6.975</td><td>34.875</td><td>6.975</td><td>6.975</td><td>34.875</td><td>34.875</td><td>6.975</td><td>5</td><td>2015</td><td>2015-05-31</td></tr>\n",
       "\t<tr><th scope=row>777</th><td>50</td><td>2015</td><td>9</td><td>42171</td><td>30</td><td>28.2</td><td>21.15</td><td>14.1</td><td>42.3</td><td>7.05</td><td>35.25</td><td>8</td><td>9</td><td>8</td><td>9</td><td>9</td><td>11</td><td>11</td><td>10</td><td>10</td><td>11</td><td>14.1</td><td>42.3</td><td>14.1</td><td>42.3</td><td>42.3</td><td>42.3</td><td>14.1</td><td>42.3</td><td>14.1</td><td>14.1</td><td>35.25</td><td>35.25</td><td>7.05</td><td>7.05</td><td>35.25</td><td>7.05</td><td>7.05</td><td>35.25</td><td>35.25</td><td>7.05</td><td>6</td><td>2015</td><td>2015-06-30</td></tr>\n",
       "\t<tr><th scope=row>778</th><td>50</td><td>2015</td><td>10</td><td>42201</td><td>31</td><td>32.4</td><td>24.3</td><td>16.2</td><td>48.6</td><td>8.1</td><td>40.5</td><td>8</td><td>9</td><td>8</td><td>9</td><td>9</td><td>11</td><td>11</td><td>10</td><td>10</td><td>11</td><td>16.2</td><td>48.6</td><td>16.2</td><td>48.6</td><td>48.6</td><td>48.6</td><td>16.2</td><td>48.6</td><td>16.2</td><td>16.2</td><td>40.5</td><td>40.5</td><td>8.1</td><td>8.1</td><td>40.5</td><td>8.1</td><td>8.1</td><td>40.5</td><td>40.5</td><td>8.1</td><td>7</td><td>2015</td><td>2015-07-31</td></tr>\n",
       "\t<tr><th scope=row>779</th><td>50</td><td>2015</td><td>11</td><td>42232</td><td>31</td><td>37.4</td><td>28.05</td><td>18.7</td><td>56.1</td><td>9.35</td><td>46.75</td><td>8</td><td>9</td><td>8</td><td>9</td><td>9</td><td>11</td><td>11</td><td>10</td><td>10</td><td>11</td><td>18.7</td><td>56.1</td><td>18.7</td><td>56.1</td><td>56.1</td><td>56.1</td><td>18.7</td><td>56.1</td><td>18.7</td><td>18.7</td><td>46.75</td><td>46.75</td><td>9.35</td><td>9.35</td><td>46.75</td><td>9.35</td><td>9.35</td><td>46.75</td><td>46.75</td><td>9.35</td><td>8</td><td>2015</td><td>2015-08-31</td></tr>\n",
       "\t<tr><th scope=row>780</th><td>50</td><td>2015</td><td>12</td><td>42263</td><td>30</td><td>13</td><td>9.75</td><td>6.5</td><td>19.5</td><td>3.25</td><td>16.25</td><td>8</td><td>9</td><td>8</td><td>9</td><td>9</td><td>11</td><td>11</td><td>10</td><td>10</td><td>11</td><td>6.5</td><td>19.5</td><td>6.5</td><td>19.5</td><td>19.5</td><td>19.5</td><td>6.5</td><td>19.5</td><td>6.5</td><td>6.5</td><td>16.25</td><td>16.25</td><td>3.25</td><td>3.25</td><td>16.25</td><td>3.25</td><td>3.25</td><td>16.25</td><td>16.25</td><td>3.25</td><td>9</td><td>2015</td><td>2015-09-30</td></tr>\n",
       "</tbody>\n",
       "</table>\n"
      ],
      "text/latex": [
       "\\begin{tabular}{r|llllllllllllllllllllllllllllllllllllllllllll}\n",
       "  & site & water.year & water.month & serial & days & ambient & reduced & incvar_a & incvar_b & redmean_a & redmean_b & incvar_pair_1 & incvar_pair_2 & incvar_pair_3 & incvar_pair_4 & incvar_pair_5 & redmean_pair_1 & redmean_pair_2 & redmean_pair_3 & redmean_pair_4 & redmean_pair_5 & incvar_a_1 & incvar_a_2 & incvar_a_3 & incvar_a_4 & incvar_a_5 & incvar_b_1 & incvar_b_2 & incvar_b_3 & incvar_b_4 & incvar_b_5 & redmean_a_1 & redmean_a_2 & redmean_a_3 & redmean_a_4 & redmean_a_5 & redmean_b_1 & redmean_b_2 & redmean_b_3 & redmean_b_4 & redmean_b_5 & actual.month & actual.year & Date\\\\\n",
       "\\hline\n",
       "\t775 & 50 & 2015 & 7 & 42110 & 30 & 15.6 & 11.7 & 7.8 & 23.4 & 3.9 & 19.5 & 8 & 9 & 8 & 9 & 9 & 11 & 11 & 10 & 10 & 11 & 7.8 & 23.4 & 7.8 & 23.4 & 23.4 & 23.4 & 7.8 & 23.4 & 7.8 & 7.8 & 19.5 & 19.5 & 3.9 & 3.9 & 19.5 & 3.9 & 3.9 & 19.5 & 19.5 & 3.9 & 4 & 2015 & 2015-04-30\\\\\n",
       "\t776 & 50 & 2015 & 8 & 42140 & 31 & 27.9 & 20.925 & 13.95 & 41.85 & 6.975 & 34.875 & 8 & 9 & 8 & 9 & 9 & 11 & 11 & 10 & 10 & 11 & 13.95 & 41.85 & 13.95 & 41.85 & 41.85 & 41.85 & 13.95 & 41.85 & 13.95 & 13.95 & 34.875 & 34.875 & 6.975 & 6.975 & 34.875 & 6.975 & 6.975 & 34.875 & 34.875 & 6.975 & 5 & 2015 & 2015-05-31\\\\\n",
       "\t777 & 50 & 2015 & 9 & 42171 & 30 & 28.2 & 21.15 & 14.1 & 42.3 & 7.05 & 35.25 & 8 & 9 & 8 & 9 & 9 & 11 & 11 & 10 & 10 & 11 & 14.1 & 42.3 & 14.1 & 42.3 & 42.3 & 42.3 & 14.1 & 42.3 & 14.1 & 14.1 & 35.25 & 35.25 & 7.05 & 7.05 & 35.25 & 7.05 & 7.05 & 35.25 & 35.25 & 7.05 & 6 & 2015 & 2015-06-30\\\\\n",
       "\t778 & 50 & 2015 & 10 & 42201 & 31 & 32.4 & 24.3 & 16.2 & 48.6 & 8.1 & 40.5 & 8 & 9 & 8 & 9 & 9 & 11 & 11 & 10 & 10 & 11 & 16.2 & 48.6 & 16.2 & 48.6 & 48.6 & 48.6 & 16.2 & 48.6 & 16.2 & 16.2 & 40.5 & 40.5 & 8.1 & 8.1 & 40.5 & 8.1 & 8.1 & 40.5 & 40.5 & 8.1 & 7 & 2015 & 2015-07-31\\\\\n",
       "\t779 & 50 & 2015 & 11 & 42232 & 31 & 37.4 & 28.05 & 18.7 & 56.1 & 9.35 & 46.75 & 8 & 9 & 8 & 9 & 9 & 11 & 11 & 10 & 10 & 11 & 18.7 & 56.1 & 18.7 & 56.1 & 56.1 & 56.1 & 18.7 & 56.1 & 18.7 & 18.7 & 46.75 & 46.75 & 9.35 & 9.35 & 46.75 & 9.35 & 9.35 & 46.75 & 46.75 & 9.35 & 8 & 2015 & 2015-08-31\\\\\n",
       "\t780 & 50 & 2015 & 12 & 42263 & 30 & 13 & 9.75 & 6.5 & 19.5 & 3.25 & 16.25 & 8 & 9 & 8 & 9 & 9 & 11 & 11 & 10 & 10 & 11 & 6.5 & 19.5 & 6.5 & 19.5 & 19.5 & 19.5 & 6.5 & 19.5 & 6.5 & 6.5 & 16.25 & 16.25 & 3.25 & 3.25 & 16.25 & 3.25 & 3.25 & 16.25 & 16.25 & 3.25 & 9 & 2015 & 2015-09-30\\\\\n",
       "\\end{tabular}\n"
      ],
      "text/plain": [
       "    site water.year water.month serial days ambient reduced incvar_a incvar_b\n",
       "775   50       2015           7  42110   30    15.6  11.700     7.80    23.40\n",
       "776   50       2015           8  42140   31    27.9  20.925    13.95    41.85\n",
       "777   50       2015           9  42171   30    28.2  21.150    14.10    42.30\n",
       "778   50       2015          10  42201   31    32.4  24.300    16.20    48.60\n",
       "779   50       2015          11  42232   31    37.4  28.050    18.70    56.10\n",
       "780   50       2015          12  42263   30    13.0   9.750     6.50    19.50\n",
       "    redmean_a redmean_b incvar_pair_1 incvar_pair_2 incvar_pair_3 incvar_pair_4\n",
       "775     3.900    19.500             8             9             8             9\n",
       "776     6.975    34.875             8             9             8             9\n",
       "777     7.050    35.250             8             9             8             9\n",
       "778     8.100    40.500             8             9             8             9\n",
       "779     9.350    46.750             8             9             8             9\n",
       "780     3.250    16.250             8             9             8             9\n",
       "    incvar_pair_5 redmean_pair_1 redmean_pair_2 redmean_pair_3 redmean_pair_4\n",
       "775             9             11             11             10             10\n",
       "776             9             11             11             10             10\n",
       "777             9             11             11             10             10\n",
       "778             9             11             11             10             10\n",
       "779             9             11             11             10             10\n",
       "780             9             11             11             10             10\n",
       "    redmean_pair_5 incvar_a_1 incvar_a_2 incvar_a_3 incvar_a_4 incvar_a_5\n",
       "775             11       7.80      23.40       7.80      23.40      23.40\n",
       "776             11      13.95      41.85      13.95      41.85      41.85\n",
       "777             11      14.10      42.30      14.10      42.30      42.30\n",
       "778             11      16.20      48.60      16.20      48.60      48.60\n",
       "779             11      18.70      56.10      18.70      56.10      56.10\n",
       "780             11       6.50      19.50       6.50      19.50      19.50\n",
       "    incvar_b_1 incvar_b_2 incvar_b_3 incvar_b_4 incvar_b_5 redmean_a_1\n",
       "775      23.40       7.80      23.40       7.80       7.80      19.500\n",
       "776      41.85      13.95      41.85      13.95      13.95      34.875\n",
       "777      42.30      14.10      42.30      14.10      14.10      35.250\n",
       "778      48.60      16.20      48.60      16.20      16.20      40.500\n",
       "779      56.10      18.70      56.10      18.70      18.70      46.750\n",
       "780      19.50       6.50      19.50       6.50       6.50      16.250\n",
       "    redmean_a_2 redmean_a_3 redmean_a_4 redmean_a_5 redmean_b_1 redmean_b_2\n",
       "775      19.500       3.900       3.900      19.500       3.900       3.900\n",
       "776      34.875       6.975       6.975      34.875       6.975       6.975\n",
       "777      35.250       7.050       7.050      35.250       7.050       7.050\n",
       "778      40.500       8.100       8.100      40.500       8.100       8.100\n",
       "779      46.750       9.350       9.350      46.750       9.350       9.350\n",
       "780      16.250       3.250       3.250      16.250       3.250       3.250\n",
       "    redmean_b_3 redmean_b_4 redmean_b_5 actual.month actual.year       Date\n",
       "775      19.500      19.500       3.900            4        2015 2015-04-30\n",
       "776      34.875      34.875       6.975            5        2015 2015-05-31\n",
       "777      35.250      35.250       7.050            6        2015 2015-06-30\n",
       "778      40.500      40.500       8.100            7        2015 2015-07-31\n",
       "779      46.750      46.750       9.350            8        2015 2015-08-31\n",
       "780      16.250      16.250       3.250            9        2015 2015-09-30"
      ]
     },
     "execution_count": 2,
     "metadata": {},
     "output_type": "execute_result"
    }
   ],
   "source": [
    "fname <- 'input_files/plotrep_monthly_25_50_5_header.csv'\n",
    "#header <- read.csv(fname, skip=3, nrows=1)\n",
    "df_alt <- read.csv(fname, header=TRUE)\n",
    "#df[df==-9999] <- NA\n",
    "#colnames(df) <- colnames(header)\n",
    "\n",
    "df_alt$actual.month <- df_alt$water.month-3\n",
    "df_alt$actual.year <- df_alt$water.year\n",
    "m_idx <- df_alt$actual.month < 1\n",
    "\n",
    "df_alt$actual.month[m_idx] <- df_alt$actual.month[m_idx]+12\n",
    "df_alt$actual.year[m_idx] <- df_alt$actual.year[m_idx]-1\n",
    "df_alt$Date <- as.Date(as.yearmon(paste(df_alt$actual.year, df_alt$actual.month, sep='-'),\n",
    "                       '%Y-%m'), frac=1)\n",
    "head(df_alt)\n",
    "tail(df_alt)"
   ]
  },
  {
   "cell_type": "markdown",
   "metadata": {},
   "source": [
    "## Read in met data"
   ]
  },
  {
   "cell_type": "code",
   "execution_count": 3,
   "metadata": {
    "scrolled": true
   },
   "outputs": [
    {
     "data": {
      "text/html": [
       "<table>\n",
       "<thead><tr><th></th><th scope=col>X</th><th scope=col>Date</th><th scope=col>Month</th><th scope=col>Day</th><th scope=col>Year</th><th scope=col>Sta</th><th scope=col>Avg_Temp</th><th scope=col>Max_Temp</th><th scope=col>Min_Temp</th><th scope=col>Avg_RH</th><th scope=col>Precip</th><th scope=col>Avg_VP</th><th scope=col>Avg_Wind_SP</th><th scope=col>Avg_Resultant_WindSP</th><th scope=col>Avg_Wind_Dir</th><th scope=col>Solar_Rad</th><th scope=col>Avg_Soil_Temp</th><th scope=col>Max_Soil_Temp</th><th scope=col>Min_Soil_Temp</th><th scope=col>Jul_Day</th><th scope=col>Max_Tempfill</th><th scope=col>Min_Tempfill</th><th scope=col>Avg_Tempfill</th></tr></thead>\n",
       "<tbody>\n",
       "\t<tr><th scope=row>1</th><td>1</td><td>1/1/1992</td><td>1</td><td>1</td><td>1992</td><td>1</td><td>0.8</td><td>6.2</td><td>-4.6</td><td>72.4</td><td>0</td><td>0.431</td><td>2.4</td><td>1.8</td><td>6.3</td><td>12.6</td><td>3.5</td><td>6.1</td><td>1.8</td><td>1Jan92</td><td>6.2</td><td>-4.6</td><td>0.8</td></tr>\n",
       "\t<tr><th scope=row>2</th><td>2</td><td>1/2/1992</td><td>1</td><td>2</td><td>1992</td><td>1</td><td>-0.2</td><td>5.8</td><td>-6.2</td><td>68.8</td><td>0</td><td>0.371</td><td>3.1</td><td>2.6</td><td>348.9</td><td>13</td><td>2.7</td><td>5.1</td><td>1.4</td><td>2Jan92</td><td>5.8</td><td>-6.2</td><td>-0.2</td></tr>\n",
       "\t<tr><th scope=row>3</th><td>3</td><td>1/3/1992</td><td>1</td><td>3</td><td>1992</td><td>1</td><td>-3.6</td><td>0</td><td>-7.1</td><td>80.9</td><td>0</td><td>0.396</td><td>1.7</td><td>1</td><td>9.7</td><td>3</td><td>1.3</td><td>2</td><td>1.2</td><td>3Jan92</td><td>0</td><td>-7.1</td><td>-3.6</td></tr>\n",
       "\t<tr><th scope=row>4</th><td>4</td><td>1/4/1992</td><td>1</td><td>4</td><td>1992</td><td>1</td><td>4</td><td>9.6</td><td>-1.7</td><td>70.3</td><td>0</td><td>0.542</td><td>2</td><td>1</td><td>221.9</td><td>8.8</td><td>3.2</td><td>6.4</td><td>1.3</td><td>4Jan92</td><td>9.6</td><td>-1.7</td><td>4</td></tr>\n",
       "\t<tr><th scope=row>5</th><td>5</td><td>1/5/1992</td><td>1</td><td>5</td><td>1992</td><td>1</td><td>2.8</td><td>10.1</td><td>-4.5</td><td>80.9</td><td>0</td><td>0.597</td><td>1.3</td><td>0.5</td><td>355.3</td><td>10.4</td><td>3.9</td><td>6.6</td><td>1.7</td><td>5Jan92</td><td>10.1</td><td>-4.5</td><td>2.8</td></tr>\n",
       "\t<tr><th scope=row>6</th><td>6</td><td>1/6/1992</td><td>1</td><td>6</td><td>1992</td><td>1</td><td>5.7</td><td>11.3</td><td>0</td><td>90.1</td><td>1.5</td><td>0.754</td><td>3</td><td>1</td><td>217.8</td><td>5.9</td><td>5</td><td>7.1</td><td>4</td><td>6Jan92</td><td>11.3</td><td>0</td><td>5.7</td></tr>\n",
       "</tbody>\n",
       "</table>\n"
      ],
      "text/latex": [
       "\\begin{tabular}{r|lllllllllllllllllllllll}\n",
       "  & X & Date & Month & Day & Year & Sta & Avg_Temp & Max_Temp & Min_Temp & Avg_RH & Precip & Avg_VP & Avg_Wind_SP & Avg_Resultant_WindSP & Avg_Wind_Dir & Solar_Rad & Avg_Soil_Temp & Max_Soil_Temp & Min_Soil_Temp & Jul_Day & Max_Tempfill & Min_Tempfill & Avg_Tempfill\\\\\n",
       "\\hline\n",
       "\t1 & 1 & 1/1/1992 & 1 & 1 & 1992 & 1 & 0.8 & 6.2 & -4.6 & 72.4 & 0 & 0.431 & 2.4 & 1.8 & 6.3 & 12.6 & 3.5 & 6.1 & 1.8 & 1Jan92 & 6.2 & -4.6 & 0.8\\\\\n",
       "\t2 & 2 & 1/2/1992 & 1 & 2 & 1992 & 1 & -0.2 & 5.8 & -6.2 & 68.8 & 0 & 0.371 & 3.1 & 2.6 & 348.9 & 13 & 2.7 & 5.1 & 1.4 & 2Jan92 & 5.8 & -6.2 & -0.2\\\\\n",
       "\t3 & 3 & 1/3/1992 & 1 & 3 & 1992 & 1 & -3.6 & 0 & -7.1 & 80.9 & 0 & 0.396 & 1.7 & 1 & 9.7 & 3 & 1.3 & 2 & 1.2 & 3Jan92 & 0 & -7.1 & -3.6\\\\\n",
       "\t4 & 4 & 1/4/1992 & 1 & 4 & 1992 & 1 & 4 & 9.6 & -1.7 & 70.3 & 0 & 0.542 & 2 & 1 & 221.9 & 8.8 & 3.2 & 6.4 & 1.3 & 4Jan92 & 9.6 & -1.7 & 4\\\\\n",
       "\t5 & 5 & 1/5/1992 & 1 & 5 & 1992 & 1 & 2.8 & 10.1 & -4.5 & 80.9 & 0 & 0.597 & 1.3 & 0.5 & 355.3 & 10.4 & 3.9 & 6.6 & 1.7 & 5Jan92 & 10.1 & -4.5 & 2.8\\\\\n",
       "\t6 & 6 & 1/6/1992 & 1 & 6 & 1992 & 1 & 5.7 & 11.3 & 0 & 90.1 & 1.5 & 0.754 & 3 & 1 & 217.8 & 5.9 & 5 & 7.1 & 4 & 6Jan92 & 11.3 & 0 & 5.7\\\\\n",
       "\\end{tabular}\n"
      ],
      "text/plain": [
       "  X     Date Month Day Year Sta Avg_Temp Max_Temp Min_Temp Avg_RH Precip Avg_VP\n",
       "1 1 1/1/1992     1   1 1992   1      0.8      6.2     -4.6   72.4    0.0  0.431\n",
       "2 2 1/2/1992     1   2 1992   1     -0.2      5.8     -6.2   68.8    0.0  0.371\n",
       "3 3 1/3/1992     1   3 1992   1     -3.6      0.0     -7.1   80.9    0.0  0.396\n",
       "4 4 1/4/1992     1   4 1992   1      4.0      9.6     -1.7   70.3    0.0  0.542\n",
       "5 5 1/5/1992     1   5 1992   1      2.8     10.1     -4.5   80.9    0.0  0.597\n",
       "6 6 1/6/1992     1   6 1992   1      5.7     11.3      0.0   90.1    1.5  0.754\n",
       "  Avg_Wind_SP Avg_Resultant_WindSP Avg_Wind_Dir Solar_Rad Avg_Soil_Temp\n",
       "1         2.4                  1.8          6.3      12.6           3.5\n",
       "2         3.1                  2.6        348.9      13.0           2.7\n",
       "3         1.7                  1.0          9.7       3.0           1.3\n",
       "4         2.0                  1.0        221.9       8.8           3.2\n",
       "5         1.3                  0.5        355.3      10.4           3.9\n",
       "6         3.0                  1.0        217.8       5.9           5.0\n",
       "  Max_Soil_Temp Min_Soil_Temp Jul_Day Max_Tempfill Min_Tempfill Avg_Tempfill\n",
       "1           6.1           1.8  1Jan92          6.2         -4.6          0.8\n",
       "2           5.1           1.4  2Jan92          5.8         -6.2         -0.2\n",
       "3           2.0           1.2  3Jan92          0.0         -7.1         -3.6\n",
       "4           6.4           1.3  4Jan92          9.6         -1.7          4.0\n",
       "5           6.6           1.7  5Jan92         10.1         -4.5          2.8\n",
       "6           7.1           4.0  6Jan92         11.3          0.0          5.7"
      ]
     },
     "execution_count": 3,
     "metadata": {},
     "output_type": "execute_result"
    }
   ],
   "source": [
    "fname <- 'input_files/Met_all_gapfill.csv'\n",
    "#header <- read.csv(fname, skip=3, nrows=1)\n",
    "df <- read.csv(fname, header=TRUE)\n",
    "#df[df==-9999] <- NA\n",
    "#colnames(df) <- colnames(header)\n",
    "head(df)"
   ]
  },
  {
   "cell_type": "code",
   "execution_count": 12,
   "metadata": {},
   "outputs": [
    {
     "name": "stdout",
     "output_type": "stream",
     "text": [
      "[1] 113\n",
      "[1] 113\n",
      "[1] 115\n",
      "[1] 115\n",
      "[1] 115\n",
      "[1] 115\n",
      "[1] 113\n",
      "[1] 113\n",
      "[1] 140\n",
      "[1] 140\n"
     ]
    },
    {
     "data": {
      "text/html": [
       "781"
      ],
      "text/latex": [
       "781"
      ],
      "text/markdown": [
       "781"
      ],
      "text/plain": [
       "[1] 781"
      ]
     },
     "execution_count": 12,
     "metadata": {},
     "output_type": "execute_result"
    },
    {
     "data": {
      "text/html": [
       "781"
      ],
      "text/latex": [
       "781"
      ],
      "text/markdown": [
       "781"
      ],
      "text/plain": [
       "[1] 781"
      ]
     },
     "execution_count": 12,
     "metadata": {},
     "output_type": "execute_result"
    }
   ],
   "source": [
    "\n",
    "# Integration period for SPEI (in months)\n",
    "int_months <- 6\n",
    "# First part of outfile\n",
    "outfile <- paste(\"SPEI_tho_altprecip_\", as.character(int_months), \"mo_Sev\", sep='')\n",
    "# List stations and latitudes\n",
    "station <- c(40, 42, 48, 49, 50)\n",
    "lat <- c(34.3592, 34.368, 34.4146, 34.3331, 34.3348)\n",
    "# Shift for wateryear\n",
    "#diff <- as.Date(\"2007-01-01\") - as.Date(\"2006-10-01\")\n",
    "\n",
    "\n",
    "for (i in 1:5){\n",
    "    # Subset to station\n",
    "    df_subs <- df[df$Sta==station[i],]\n",
    "    # Calculate PET using thornthwaite\n",
    "    df_subs$PET <- thornthwaite(df_subs$Avg_Temp, lat[i], na.rm=T)\n",
    "    df_subs$Jul_Day <- 0 # string, get rid of it\n",
    "    # Create a date column\n",
    "    df_subs$Date <- as.Date(df_subs$Date, \"%m/%d/%Y\" )\n",
    "    # Subset again\n",
    "    df_subs <- subset(df_subs, subset=(df_subs$Date > as.Date(\"2002-09-30\")))\n",
    "    df_subs <- df_subs[,c('Date', 'PET', 'Precip')]\n",
    "    # Create xts timeseries and downsample to monthly data\n",
    "    df_subs <- xts(df_subs[,2:ncol(df_subs)], df_subs$Date)\n",
    "    #df_subs <- align.time(df_subs, n=60*60*24)\n",
    "    df_subs_m <- apply.monthly(df_subs$PET, FUN=mean)\n",
    "    df_subs_m$Precip_ambient <- apply.monthly(df_subs$Precip, FUN=sum)\n",
    "    # Add in station ID\n",
    "    df_subs_m$Sta <- station[i]\n",
    "    #old_index <- index(df_subs_m)\n",
    "    #index(df_subs_m) <- as.yearmon(index(df_subs_m))\n",
    "    # Add in columns from altered precip regimes\n",
    "    alt_subs <- df_alt[df_alt$site==station[i],]\n",
    "    alt_subs <- xts(alt_subs[,2:41], alt_subs$Date)\n",
    "    df_subs_m <- cbind(df_subs_m, alt_subs[,1:2])\n",
    "    df_subs_m <- cbind(df_subs_m, alt_subs[,5:6])\n",
    "    df_subs_m <- cbind(df_subs_m, alt_subs[,21:40])\n",
    "\n",
    "    for (j in 6:ncol(df_subs_m)){\n",
    "        # Calculate climatic water differential then SPEI\n",
    "        cwdiff <- df_subs_m[,j] - df_subs_m$PET\n",
    "        # Get start and end month for the timeseries object\n",
    "        startmon <- as.numeric(index(df_subs_m[1]))\n",
    "        startyr <- floor(startmon)\n",
    "        startmon <- ceiling((startmon-startyr)*12) + 1\n",
    "        # Calculate SPEI\n",
    "        spei_i <- spei(ts(cwdiff, frequency=12, start=c(startyr, startmon)),\n",
    "                       int_months, na.rm=TRUE)\n",
    "        #plot(spei_i)\n",
    "        # Make this an xts object that can be bound to df_subs_m\n",
    "        spei_cname <- paste(colnames(df_subs_m[,j]), 'SPEI', sep='_')\n",
    "        spei_i <- xts(as.vector(spei_i$fitted), index(cwdiff))\n",
    "        names(spei_i) <- spei_cname\n",
    "\n",
    "        df_subs_m <- cbind(df_subs_m, spei_i)\n",
    "    }\n",
    "    #print(tail(df_subs_m))\n",
    "    \n",
    "    # There may be both infinite and NA values in the output\n",
    "    # Convert -Inf to NA\n",
    "    print(sum(is.na(df_subs_m)))\n",
    "    df_subs_m[!is.finite(df_subs_m)] <- NA\n",
    "    print(sum(is.na(df_subs_m)))\n",
    "    \n",
    "    # Interpolate over NA values\n",
    "    df_subs_m_interp <- na.approx(df_subs_m)\n",
    "    \n",
    "    # Add water year and month columns\n",
    "    #df_subs_m$year_w <- .indexyear(df_subs_m) + 1900\n",
    "    #df_subs_m$month_w <- .indexmon(df_subs_m)\n",
    "    \n",
    "    if (i==1){\n",
    "        m_out <- data.frame(date=index(df_subs_m),coredata(df_subs_m))\n",
    "        m_out_interp <- data.frame(date=index(df_subs_m_interp),coredata(df_subs_m_interp))\n",
    "    } else {\n",
    "        m_out <- rbind(m_out, data.frame(date=index(df_subs_m),coredata(df_subs_m)))\n",
    "        m_out_interp <- rbind(m_out_interp, data.frame(date=index(df_subs_m_interp),coredata(df_subs_m_interp)))\n",
    "    }\n",
    "}\n",
    "\n",
    "\n",
    "# Somehow a funky entry at 2009-2-12 is created, remove\n",
    "nrow(m_out)\n",
    "nrow(m_out_interp)\n",
    "#m_out <- m_out[c('::2009-01-31', '2009-02-28::')]\n",
    "#nrow(m_out)\n",
    "\n",
    "\n",
    "\n",
    "#print(tail(df_new))\n",
    "#write.zoo(m_out, file = paste(outfile, '.csv', sep=''),\n",
    "#          index.name = \"Date\", sep=',', row.names = FALSE, col.names=TRUE)\n",
    "write.csv(m_out, file = paste('../processed_data/Sev_SPEI/', outfile, '.csv', sep=''), row.names = FALSE)\n",
    "\n",
    "#write.zoo(m_out, file = paste(outfile, '_NAinterp.csv', sep=''),\n",
    "#          index.name = \"Date\", sep=',', row.names = FALSE, col.names=TRUE)\n",
    "write.csv(m_out_interp, file = paste('../processed_data/Sev_SPEI/', outfile, '_NAinterp.csv', sep=''), row.names = FALSE)\n",
    "#head(m_out)\n",
    "\n"
   ]
  },
  {
   "cell_type": "code",
   "execution_count": 30,
   "metadata": {
    "scrolled": false
   },
   "outputs": [
    {
     "data": {
      "text/html": [
       "<table>\n",
       "<thead><tr><th></th><th scope=col>X</th><th scope=col>month</th><th scope=col>day</th><th scope=col>year</th><th scope=col>PET</th><th scope=col>Precip_ambient</th><th scope=col>Sta</th><th scope=col>water.year</th><th scope=col>water.month</th><th scope=col>treatment</th><th scope=col>value</th><th scope=col>Date</th></tr></thead>\n",
       "<tbody>\n",
       "\t<tr><th scope=row>1042</th><td>1042</td><td>4</td><td>30</td><td>2015</td><td>54.9928</td><td>15.6</td><td>50</td><td>2015</td><td>7</td><td>reduced</td><td>11.7</td><td>2015-04-30</td></tr>\n",
       "\t<tr><th scope=row>1107</th><td>1107</td><td>5</td><td>31</td><td>2015</td><td>74.11162</td><td>27.9</td><td>50</td><td>2015</td><td>8</td><td>reduced</td><td>20.925</td><td>2015-05-31</td></tr>\n",
       "\t<tr><th scope=row>1172</th><td>1172</td><td>6</td><td>30</td><td>2015</td><td>131.8975</td><td>28.2</td><td>50</td><td>2015</td><td>9</td><td>reduced</td><td>21.15</td><td>2015-06-30</td></tr>\n",
       "\t<tr><th scope=row>1237</th><td>1237</td><td>7</td><td>31</td><td>2015</td><td>129.7014</td><td>32.4</td><td>50</td><td>2015</td><td>10</td><td>reduced</td><td>24.3</td><td>2015-07-31</td></tr>\n",
       "\t<tr><th scope=row>1302</th><td>1302</td><td>8</td><td>31</td><td>2015</td><td>138.5258</td><td>37.4</td><td>50</td><td>2015</td><td>11</td><td>reduced</td><td>28.05</td><td>2015-08-31</td></tr>\n",
       "\t<tr><th scope=row>1367</th><td>1367</td><td>9</td><td>30</td><td>2015</td><td>114.5217</td><td>13</td><td>50</td><td>2015</td><td>12</td><td>reduced</td><td>9.75</td><td>2015-09-30</td></tr>\n",
       "</tbody>\n",
       "</table>\n"
      ],
      "text/latex": [
       "\\begin{tabular}{r|llllllllllll}\n",
       "  & X & month & day & year & PET & Precip_ambient & Sta & water.year & water.month & treatment & value & Date\\\\\n",
       "\\hline\n",
       "\t1042 & 1042 & 4 & 30 & 2015 & 54.9928 & 15.6 & 50 & 2015 & 7 & reduced & 11.7 & 2015-04-30\\\\\n",
       "\t1107 & 1107 & 5 & 31 & 2015 & 74.11162 & 27.9 & 50 & 2015 & 8 & reduced & 20.925 & 2015-05-31\\\\\n",
       "\t1172 & 1172 & 6 & 30 & 2015 & 131.8975 & 28.2 & 50 & 2015 & 9 & reduced & 21.15 & 2015-06-30\\\\\n",
       "\t1237 & 1237 & 7 & 31 & 2015 & 129.7014 & 32.4 & 50 & 2015 & 10 & reduced & 24.3 & 2015-07-31\\\\\n",
       "\t1302 & 1302 & 8 & 31 & 2015 & 138.5258 & 37.4 & 50 & 2015 & 11 & reduced & 28.05 & 2015-08-31\\\\\n",
       "\t1367 & 1367 & 9 & 30 & 2015 & 114.5217 & 13 & 50 & 2015 & 12 & reduced & 9.75 & 2015-09-30\\\\\n",
       "\\end{tabular}\n"
      ],
      "text/plain": [
       "        X month day year       PET Precip_ambient Sta water.year water.month\n",
       "1042 1042     4  30 2015  54.99280           15.6  50       2015           7\n",
       "1107 1107     5  31 2015  74.11162           27.9  50       2015           8\n",
       "1172 1172     6  30 2015 131.89745           28.2  50       2015           9\n",
       "1237 1237     7  31 2015 129.70141           32.4  50       2015          10\n",
       "1302 1302     8  31 2015 138.52581           37.4  50       2015          11\n",
       "1367 1367     9  30 2015 114.52168           13.0  50       2015          12\n",
       "     treatment  value       Date\n",
       "1042   reduced 11.700 2015-04-30\n",
       "1107   reduced 20.925 2015-05-31\n",
       "1172   reduced 21.150 2015-06-30\n",
       "1237   reduced 24.300 2015-07-31\n",
       "1302   reduced 28.050 2015-08-31\n",
       "1367   reduced  9.750 2015-09-30"
      ]
     },
     "execution_count": 30,
     "metadata": {},
     "output_type": "execute_result"
    }
   ],
   "source": [
    "# Now read in treatment comparison file\n",
    "fname <- 'input_files/SPEI_melt.csv'\n",
    "#header <- read.csv(fname, skip=3, nrows=1)\n",
    "df_melt <- read.csv(fname, header=TRUE)\n",
    "df_melt$Date <- as.Date(paste(df_melt$year, df_melt$month, df_melt$day, sep='-'), \"%Y-%m-%d\" )\n",
    "df_melt <- df_melt[with(df_melt, order(Sta, treatment, Date)), ]\n",
    "#df[df==-9999] <- NA\n",
    "#colnames(df) <- colnames(header)\n",
    "\n",
    "tail(df_melt)"
   ]
  },
  {
   "cell_type": "code",
   "execution_count": 32,
   "metadata": {
    "scrolled": false
   },
   "outputs": [
    {
     "data": {
      "text/html": [
       "<table>\n",
       "<thead><tr><th></th><th scope=col>X</th><th scope=col>month</th><th scope=col>day</th><th scope=col>year</th><th scope=col>PET</th><th scope=col>Precip_ambient</th><th scope=col>Sta</th><th scope=col>water.year</th><th scope=col>water.month</th><th scope=col>treatment</th><th scope=col>value</th><th scope=col>Date</th><th scope=col>spei_multitrt</th></tr></thead>\n",
       "<tbody>\n",
       "\t<tr><th scope=row>1042</th><td>1042</td><td>4</td><td>30</td><td>2015</td><td>54.9928</td><td>15.6</td><td>50</td><td>2015</td><td>7</td><td>reduced</td><td>11.7</td><td>2015-04-30</td><td>0.1651465</td></tr>\n",
       "\t<tr><th scope=row>1107</th><td>1107</td><td>5</td><td>31</td><td>2015</td><td>74.11162</td><td>27.9</td><td>50</td><td>2015</td><td>8</td><td>reduced</td><td>20.925</td><td>2015-05-31</td><td>-0.4808157</td></tr>\n",
       "\t<tr><th scope=row>1172</th><td>1172</td><td>6</td><td>30</td><td>2015</td><td>131.8975</td><td>28.2</td><td>50</td><td>2015</td><td>9</td><td>reduced</td><td>21.15</td><td>2015-06-30</td><td>-1.217654</td></tr>\n",
       "\t<tr><th scope=row>1237</th><td>1237</td><td>7</td><td>31</td><td>2015</td><td>129.7014</td><td>32.4</td><td>50</td><td>2015</td><td>10</td><td>reduced</td><td>24.3</td><td>2015-07-31</td><td>-1.695711</td></tr>\n",
       "\t<tr><th scope=row>1302</th><td>1302</td><td>8</td><td>31</td><td>2015</td><td>138.5258</td><td>37.4</td><td>50</td><td>2015</td><td>11</td><td>reduced</td><td>28.05</td><td>2015-08-31</td><td>-2.084015</td></tr>\n",
       "\t<tr><th scope=row>1367</th><td>1367</td><td>9</td><td>30</td><td>2015</td><td>114.5217</td><td>13</td><td>50</td><td>2015</td><td>12</td><td>reduced</td><td>9.75</td><td>2015-09-30</td><td>-2.249245</td></tr>\n",
       "</tbody>\n",
       "</table>\n"
      ],
      "text/latex": [
       "\\begin{tabular}{r|lllllllllllll}\n",
       "  & X & month & day & year & PET & Precip_ambient & Sta & water.year & water.month & treatment & value & Date & spei_multitrt\\\\\n",
       "\\hline\n",
       "\t1042 & 1042 & 4 & 30 & 2015 & 54.9928 & 15.6 & 50 & 2015 & 7 & reduced & 11.7 & 2015-04-30 & 0.1651465\\\\\n",
       "\t1107 & 1107 & 5 & 31 & 2015 & 74.11162 & 27.9 & 50 & 2015 & 8 & reduced & 20.925 & 2015-05-31 & -0.4808157\\\\\n",
       "\t1172 & 1172 & 6 & 30 & 2015 & 131.8975 & 28.2 & 50 & 2015 & 9 & reduced & 21.15 & 2015-06-30 & -1.217654\\\\\n",
       "\t1237 & 1237 & 7 & 31 & 2015 & 129.7014 & 32.4 & 50 & 2015 & 10 & reduced & 24.3 & 2015-07-31 & -1.695711\\\\\n",
       "\t1302 & 1302 & 8 & 31 & 2015 & 138.5258 & 37.4 & 50 & 2015 & 11 & reduced & 28.05 & 2015-08-31 & -2.084015\\\\\n",
       "\t1367 & 1367 & 9 & 30 & 2015 & 114.5217 & 13 & 50 & 2015 & 12 & reduced & 9.75 & 2015-09-30 & -2.249245\\\\\n",
       "\\end{tabular}\n"
      ],
      "text/plain": [
       "        X month day year       PET Precip_ambient Sta water.year water.month\n",
       "1042 1042     4  30 2015  54.99280           15.6  50       2015           7\n",
       "1107 1107     5  31 2015  74.11162           27.9  50       2015           8\n",
       "1172 1172     6  30 2015 131.89745           28.2  50       2015           9\n",
       "1237 1237     7  31 2015 129.70141           32.4  50       2015          10\n",
       "1302 1302     8  31 2015 138.52581           37.4  50       2015          11\n",
       "1367 1367     9  30 2015 114.52168           13.0  50       2015          12\n",
       "     treatment  value       Date spei_multitrt\n",
       "1042   reduced 11.700 2015-04-30     0.1651465\n",
       "1107   reduced 20.925 2015-05-31    -0.4808157\n",
       "1172   reduced 21.150 2015-06-30    -1.2176538\n",
       "1237   reduced 24.300 2015-07-31    -1.6957110\n",
       "1302   reduced 28.050 2015-08-31    -2.0840154\n",
       "1367   reduced  9.750 2015-09-30    -2.2492447"
      ]
     },
     "execution_count": 32,
     "metadata": {},
     "output_type": "execute_result"
    }
   ],
   "source": [
    "# Calculate climatic water differential then SPEI\n",
    "cwdiff2 <- df_melt$value - df_melt$PET\n",
    "# Get start and end month for the timeseries object\n",
    "#startmon <- as.numeric(index(df_subs_m[1]))\n",
    "#startyr <- floor(startmon)\n",
    "#startmon <- ceiling((startmon-startyr)*12) + 1\n",
    "# Calculate SPEI\n",
    "spei2_i <- spei(ts(cwdiff2, frequency=12, start=c(1900, 1)),\n",
    "                       int_months, na.rm=TRUE)\n",
    "#plot(spei2_i)\n",
    "#df_melt$treatment\n",
    "# Make this an xts object that can be bound to df_subs_m\n",
    "#spei2_cname <- 'SPEI_multitreatment'\n",
    "df_melt$spei_multitrt <- as.vector(spei2_i$fitted)\n",
    "#names(spei2_i) <- spei2_cname\n",
    "\n",
    "\n",
    "tail(df_melt)\n",
    "\n",
    "write.csv(df_melt, file = paste('../processed_data/Sev_SPEI/', 'SPEI_melt_alltrtSPEI', '.csv', sep=''), row.names = FALSE)"
   ]
  }
 ],
 "metadata": {
  "anaconda-cloud": {},
  "kernelspec": {
   "display_name": "R",
   "language": "R",
   "name": "ir"
  },
  "language_info": {
   "codemirror_mode": "r",
   "file_extension": ".r",
   "mimetype": "text/x-r-source",
   "name": "R",
   "pygments_lexer": "r",
   "version": "3.3.3"
  }
 },
 "nbformat": 4,
 "nbformat_minor": 1
}
